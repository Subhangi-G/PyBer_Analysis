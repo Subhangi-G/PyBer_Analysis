{
 "cells": [
  {
   "cell_type": "code",
   "execution_count": 1,
   "metadata": {},
   "outputs": [],
   "source": [
    "# Add Matplotlib inline magic command\n",
    "%matplotlib inline\n",
    "\n",
    "# Dependencies and Setup\n",
    "import matplotlib.pyplot as plt\n",
    "import pandas as pd"
   ]
  },
  {
   "cell_type": "code",
   "execution_count": 2,
   "metadata": {},
   "outputs": [],
   "source": [
    "# Files to load\n",
    "city_data_to_load = \"Resources/city_data.csv\"\n",
    "ride_data_to_load = \"Resources/ride_data.csv\""
   ]
  },
  {
   "cell_type": "code",
   "execution_count": 3,
   "metadata": {},
   "outputs": [
    {
     "data": {
      "text/html": [
       "<div>\n",
       "<style scoped>\n",
       "    .dataframe tbody tr th:only-of-type {\n",
       "        vertical-align: middle;\n",
       "    }\n",
       "\n",
       "    .dataframe tbody tr th {\n",
       "        vertical-align: top;\n",
       "    }\n",
       "\n",
       "    .dataframe thead th {\n",
       "        text-align: right;\n",
       "    }\n",
       "</style>\n",
       "<table border=\"1\" class=\"dataframe\">\n",
       "  <thead>\n",
       "    <tr style=\"text-align: right;\">\n",
       "      <th></th>\n",
       "      <th>city</th>\n",
       "      <th>driver_count</th>\n",
       "      <th>type</th>\n",
       "    </tr>\n",
       "  </thead>\n",
       "  <tbody>\n",
       "    <tr>\n",
       "      <th>0</th>\n",
       "      <td>Richardfort</td>\n",
       "      <td>38</td>\n",
       "      <td>Urban</td>\n",
       "    </tr>\n",
       "    <tr>\n",
       "      <th>1</th>\n",
       "      <td>Williamsstad</td>\n",
       "      <td>59</td>\n",
       "      <td>Urban</td>\n",
       "    </tr>\n",
       "    <tr>\n",
       "      <th>2</th>\n",
       "      <td>Port Angela</td>\n",
       "      <td>67</td>\n",
       "      <td>Urban</td>\n",
       "    </tr>\n",
       "    <tr>\n",
       "      <th>3</th>\n",
       "      <td>Rodneyfort</td>\n",
       "      <td>34</td>\n",
       "      <td>Urban</td>\n",
       "    </tr>\n",
       "    <tr>\n",
       "      <th>4</th>\n",
       "      <td>West Robert</td>\n",
       "      <td>39</td>\n",
       "      <td>Urban</td>\n",
       "    </tr>\n",
       "    <tr>\n",
       "      <th>5</th>\n",
       "      <td>West Anthony</td>\n",
       "      <td>70</td>\n",
       "      <td>Urban</td>\n",
       "    </tr>\n",
       "    <tr>\n",
       "      <th>6</th>\n",
       "      <td>West Angela</td>\n",
       "      <td>48</td>\n",
       "      <td>Urban</td>\n",
       "    </tr>\n",
       "    <tr>\n",
       "      <th>7</th>\n",
       "      <td>Martinezhaven</td>\n",
       "      <td>25</td>\n",
       "      <td>Urban</td>\n",
       "    </tr>\n",
       "    <tr>\n",
       "      <th>8</th>\n",
       "      <td>Karenberg</td>\n",
       "      <td>22</td>\n",
       "      <td>Urban</td>\n",
       "    </tr>\n",
       "    <tr>\n",
       "      <th>9</th>\n",
       "      <td>Barajasview</td>\n",
       "      <td>26</td>\n",
       "      <td>Urban</td>\n",
       "    </tr>\n",
       "  </tbody>\n",
       "</table>\n",
       "</div>"
      ],
      "text/plain": [
       "            city  driver_count   type\n",
       "0    Richardfort            38  Urban\n",
       "1   Williamsstad            59  Urban\n",
       "2    Port Angela            67  Urban\n",
       "3     Rodneyfort            34  Urban\n",
       "4    West Robert            39  Urban\n",
       "5   West Anthony            70  Urban\n",
       "6    West Angela            48  Urban\n",
       "7  Martinezhaven            25  Urban\n",
       "8      Karenberg            22  Urban\n",
       "9    Barajasview            26  Urban"
      ]
     },
     "execution_count": 3,
     "metadata": {},
     "output_type": "execute_result"
    }
   ],
   "source": [
    "# Read the city data file and store it in a pandas DataFrame.\n",
    "city_data_df = pd.read_csv(city_data_to_load)\n",
    "city_data_df.head(10)"
   ]
  },
  {
   "cell_type": "code",
   "execution_count": 4,
   "metadata": {},
   "outputs": [
    {
     "data": {
      "text/html": [
       "<div>\n",
       "<style scoped>\n",
       "    .dataframe tbody tr th:only-of-type {\n",
       "        vertical-align: middle;\n",
       "    }\n",
       "\n",
       "    .dataframe tbody tr th {\n",
       "        vertical-align: top;\n",
       "    }\n",
       "\n",
       "    .dataframe thead th {\n",
       "        text-align: right;\n",
       "    }\n",
       "</style>\n",
       "<table border=\"1\" class=\"dataframe\">\n",
       "  <thead>\n",
       "    <tr style=\"text-align: right;\">\n",
       "      <th></th>\n",
       "      <th>city</th>\n",
       "      <th>date</th>\n",
       "      <th>fare</th>\n",
       "      <th>ride_id</th>\n",
       "    </tr>\n",
       "  </thead>\n",
       "  <tbody>\n",
       "    <tr>\n",
       "      <th>0</th>\n",
       "      <td>Lake Jonathanshire</td>\n",
       "      <td>2019-01-14 10:14:22</td>\n",
       "      <td>13.83</td>\n",
       "      <td>5739410935873</td>\n",
       "    </tr>\n",
       "    <tr>\n",
       "      <th>1</th>\n",
       "      <td>South Michelleport</td>\n",
       "      <td>2019-03-04 18:24:09</td>\n",
       "      <td>30.24</td>\n",
       "      <td>2343912425577</td>\n",
       "    </tr>\n",
       "    <tr>\n",
       "      <th>2</th>\n",
       "      <td>Port Samanthamouth</td>\n",
       "      <td>2019-02-24 04:29:00</td>\n",
       "      <td>33.44</td>\n",
       "      <td>2005065760003</td>\n",
       "    </tr>\n",
       "    <tr>\n",
       "      <th>3</th>\n",
       "      <td>Rodneyfort</td>\n",
       "      <td>2019-02-10 23:22:03</td>\n",
       "      <td>23.44</td>\n",
       "      <td>5149245426178</td>\n",
       "    </tr>\n",
       "    <tr>\n",
       "      <th>4</th>\n",
       "      <td>South Jack</td>\n",
       "      <td>2019-03-06 04:28:35</td>\n",
       "      <td>34.58</td>\n",
       "      <td>3908451377344</td>\n",
       "    </tr>\n",
       "  </tbody>\n",
       "</table>\n",
       "</div>"
      ],
      "text/plain": [
       "                 city                 date   fare        ride_id\n",
       "0  Lake Jonathanshire  2019-01-14 10:14:22  13.83  5739410935873\n",
       "1  South Michelleport  2019-03-04 18:24:09  30.24  2343912425577\n",
       "2  Port Samanthamouth  2019-02-24 04:29:00  33.44  2005065760003\n",
       "3          Rodneyfort  2019-02-10 23:22:03  23.44  5149245426178\n",
       "4          South Jack  2019-03-06 04:28:35  34.58  3908451377344"
      ]
     },
     "execution_count": 4,
     "metadata": {},
     "output_type": "execute_result"
    }
   ],
   "source": [
    "# Read the ride data file and store it in a pandas DataFrame.\n",
    "ride_data_df = pd.read_csv(ride_data_to_load)\n",
    "ride_data_df.head()"
   ]
  },
  {
   "cell_type": "code",
   "execution_count": 5,
   "metadata": {},
   "outputs": [
    {
     "data": {
      "text/plain": [
       "city            120\n",
       "driver_count    120\n",
       "type            120\n",
       "dtype: int64"
      ]
     },
     "execution_count": 5,
     "metadata": {},
     "output_type": "execute_result"
    }
   ],
   "source": [
    "# Get the columns and the rows that are not null.\n",
    "city_data_df.count()"
   ]
  },
  {
   "cell_type": "code",
   "execution_count": 6,
   "metadata": {},
   "outputs": [
    {
     "data": {
      "text/plain": [
       "city            0\n",
       "driver_count    0\n",
       "type            0\n",
       "dtype: int64"
      ]
     },
     "execution_count": 6,
     "metadata": {},
     "output_type": "execute_result"
    }
   ],
   "source": [
    "# Get the columns and the rows that are not null.\n",
    "city_data_df.isnull().sum()"
   ]
  },
  {
   "cell_type": "code",
   "execution_count": 7,
   "metadata": {},
   "outputs": [
    {
     "data": {
      "text/plain": [
       "city            object\n",
       "driver_count     int64\n",
       "type            object\n",
       "dtype: object"
      ]
     },
     "execution_count": 7,
     "metadata": {},
     "output_type": "execute_result"
    }
   ],
   "source": [
    "# Get the data types of each column.\n",
    "city_data_df.dtypes"
   ]
  },
  {
   "cell_type": "code",
   "execution_count": 8,
   "metadata": {},
   "outputs": [
    {
     "data": {
      "text/plain": [
       "array(['Urban', 'Suburban', 'Rural'], dtype=object)"
      ]
     },
     "execution_count": 8,
     "metadata": {},
     "output_type": "execute_result"
    }
   ],
   "source": [
    "# Get the unique values of the type of city.\n",
    "city_data_df[\"type\"].unique()"
   ]
  },
  {
   "cell_type": "code",
   "execution_count": 9,
   "metadata": {},
   "outputs": [
    {
     "data": {
      "text/plain": [
       "66"
      ]
     },
     "execution_count": 9,
     "metadata": {},
     "output_type": "execute_result"
    }
   ],
   "source": [
    "# Get the number of data points from the Urban cities.\n",
    "sum(city_data_df[\"type\"] == \"Urban\")"
   ]
  },
  {
   "cell_type": "code",
   "execution_count": 10,
   "metadata": {},
   "outputs": [
    {
     "data": {
      "text/plain": [
       "Urban       66\n",
       "Suburban    36\n",
       "Rural       18\n",
       "Name: type, dtype: int64"
      ]
     },
     "execution_count": 10,
     "metadata": {},
     "output_type": "execute_result"
    }
   ],
   "source": [
    "# Get the number of data points from the Suburban and Rural cities. (Another way to get the numbers.)\n",
    "city_data_df[\"type\"].value_counts()"
   ]
  },
  {
   "cell_type": "code",
   "execution_count": 11,
   "metadata": {},
   "outputs": [
    {
     "data": {
      "text/plain": [
       "city       2375\n",
       "date       2375\n",
       "fare       2375\n",
       "ride_id    2375\n",
       "dtype: int64"
      ]
     },
     "execution_count": 11,
     "metadata": {},
     "output_type": "execute_result"
    }
   ],
   "source": [
    "# Get the columns and the rows that are not null.\n",
    "ride_data_df.count()"
   ]
  },
  {
   "cell_type": "code",
   "execution_count": 12,
   "metadata": {},
   "outputs": [
    {
     "data": {
      "text/plain": [
       "city       0\n",
       "date       0\n",
       "fare       0\n",
       "ride_id    0\n",
       "dtype: int64"
      ]
     },
     "execution_count": 12,
     "metadata": {},
     "output_type": "execute_result"
    }
   ],
   "source": [
    "# Get the columns and the rows that are not null.\n",
    "ride_data_df.isnull().sum()"
   ]
  },
  {
   "cell_type": "code",
   "execution_count": 13,
   "metadata": {},
   "outputs": [
    {
     "data": {
      "text/plain": [
       "city        object\n",
       "date        object\n",
       "fare       float64\n",
       "ride_id      int64\n",
       "dtype: object"
      ]
     },
     "execution_count": 13,
     "metadata": {},
     "output_type": "execute_result"
    }
   ],
   "source": [
    "# Get the data types of each column.\n",
    "ride_data_df.dtypes"
   ]
  },
  {
   "cell_type": "code",
   "execution_count": 14,
   "metadata": {},
   "outputs": [
    {
     "data": {
      "text/html": [
       "<div>\n",
       "<style scoped>\n",
       "    .dataframe tbody tr th:only-of-type {\n",
       "        vertical-align: middle;\n",
       "    }\n",
       "\n",
       "    .dataframe tbody tr th {\n",
       "        vertical-align: top;\n",
       "    }\n",
       "\n",
       "    .dataframe thead th {\n",
       "        text-align: right;\n",
       "    }\n",
       "</style>\n",
       "<table border=\"1\" class=\"dataframe\">\n",
       "  <thead>\n",
       "    <tr style=\"text-align: right;\">\n",
       "      <th></th>\n",
       "      <th>city</th>\n",
       "      <th>date</th>\n",
       "      <th>fare</th>\n",
       "      <th>ride_id</th>\n",
       "      <th>driver_count</th>\n",
       "      <th>type</th>\n",
       "    </tr>\n",
       "  </thead>\n",
       "  <tbody>\n",
       "    <tr>\n",
       "      <th>0</th>\n",
       "      <td>Lake Jonathanshire</td>\n",
       "      <td>2019-01-14 10:14:22</td>\n",
       "      <td>13.83</td>\n",
       "      <td>5739410935873</td>\n",
       "      <td>5</td>\n",
       "      <td>Urban</td>\n",
       "    </tr>\n",
       "    <tr>\n",
       "      <th>1</th>\n",
       "      <td>South Michelleport</td>\n",
       "      <td>2019-03-04 18:24:09</td>\n",
       "      <td>30.24</td>\n",
       "      <td>2343912425577</td>\n",
       "      <td>72</td>\n",
       "      <td>Urban</td>\n",
       "    </tr>\n",
       "    <tr>\n",
       "      <th>2</th>\n",
       "      <td>Port Samanthamouth</td>\n",
       "      <td>2019-02-24 04:29:00</td>\n",
       "      <td>33.44</td>\n",
       "      <td>2005065760003</td>\n",
       "      <td>57</td>\n",
       "      <td>Urban</td>\n",
       "    </tr>\n",
       "    <tr>\n",
       "      <th>3</th>\n",
       "      <td>Rodneyfort</td>\n",
       "      <td>2019-02-10 23:22:03</td>\n",
       "      <td>23.44</td>\n",
       "      <td>5149245426178</td>\n",
       "      <td>34</td>\n",
       "      <td>Urban</td>\n",
       "    </tr>\n",
       "    <tr>\n",
       "      <th>4</th>\n",
       "      <td>South Jack</td>\n",
       "      <td>2019-03-06 04:28:35</td>\n",
       "      <td>34.58</td>\n",
       "      <td>3908451377344</td>\n",
       "      <td>46</td>\n",
       "      <td>Urban</td>\n",
       "    </tr>\n",
       "  </tbody>\n",
       "</table>\n",
       "</div>"
      ],
      "text/plain": [
       "                 city                 date   fare        ride_id  \\\n",
       "0  Lake Jonathanshire  2019-01-14 10:14:22  13.83  5739410935873   \n",
       "1  South Michelleport  2019-03-04 18:24:09  30.24  2343912425577   \n",
       "2  Port Samanthamouth  2019-02-24 04:29:00  33.44  2005065760003   \n",
       "3          Rodneyfort  2019-02-10 23:22:03  23.44  5149245426178   \n",
       "4          South Jack  2019-03-06 04:28:35  34.58  3908451377344   \n",
       "\n",
       "   driver_count   type  \n",
       "0             5  Urban  \n",
       "1            72  Urban  \n",
       "2            57  Urban  \n",
       "3            34  Urban  \n",
       "4            46  Urban  "
      ]
     },
     "execution_count": 14,
     "metadata": {},
     "output_type": "execute_result"
    }
   ],
   "source": [
    "# Combine the data into a single dataset.\n",
    "pyber_data_df = pd.merge(ride_data_df, city_data_df, how=\"left\", on=[\"city\", \"city\"])\n",
    "\n",
    "# Display the DataFrame.\n",
    "pyber_data_df.head()"
   ]
  },
  {
   "cell_type": "code",
   "execution_count": 15,
   "metadata": {},
   "outputs": [
    {
     "data": {
      "text/html": [
       "<div>\n",
       "<style scoped>\n",
       "    .dataframe tbody tr th:only-of-type {\n",
       "        vertical-align: middle;\n",
       "    }\n",
       "\n",
       "    .dataframe tbody tr th {\n",
       "        vertical-align: top;\n",
       "    }\n",
       "\n",
       "    .dataframe thead th {\n",
       "        text-align: right;\n",
       "    }\n",
       "</style>\n",
       "<table border=\"1\" class=\"dataframe\">\n",
       "  <thead>\n",
       "    <tr style=\"text-align: right;\">\n",
       "      <th></th>\n",
       "      <th>city</th>\n",
       "      <th>date</th>\n",
       "      <th>fare</th>\n",
       "      <th>ride_id</th>\n",
       "      <th>driver_count</th>\n",
       "      <th>type</th>\n",
       "    </tr>\n",
       "  </thead>\n",
       "  <tbody>\n",
       "    <tr>\n",
       "      <th>0</th>\n",
       "      <td>Lake Jonathanshire</td>\n",
       "      <td>2019-01-14 10:14:22</td>\n",
       "      <td>13.83</td>\n",
       "      <td>5739410935873</td>\n",
       "      <td>5</td>\n",
       "      <td>Urban</td>\n",
       "    </tr>\n",
       "    <tr>\n",
       "      <th>1</th>\n",
       "      <td>South Michelleport</td>\n",
       "      <td>2019-03-04 18:24:09</td>\n",
       "      <td>30.24</td>\n",
       "      <td>2343912425577</td>\n",
       "      <td>72</td>\n",
       "      <td>Urban</td>\n",
       "    </tr>\n",
       "    <tr>\n",
       "      <th>2</th>\n",
       "      <td>Port Samanthamouth</td>\n",
       "      <td>2019-02-24 04:29:00</td>\n",
       "      <td>33.44</td>\n",
       "      <td>2005065760003</td>\n",
       "      <td>57</td>\n",
       "      <td>Urban</td>\n",
       "    </tr>\n",
       "    <tr>\n",
       "      <th>3</th>\n",
       "      <td>Rodneyfort</td>\n",
       "      <td>2019-02-10 23:22:03</td>\n",
       "      <td>23.44</td>\n",
       "      <td>5149245426178</td>\n",
       "      <td>34</td>\n",
       "      <td>Urban</td>\n",
       "    </tr>\n",
       "    <tr>\n",
       "      <th>4</th>\n",
       "      <td>South Jack</td>\n",
       "      <td>2019-03-06 04:28:35</td>\n",
       "      <td>34.58</td>\n",
       "      <td>3908451377344</td>\n",
       "      <td>46</td>\n",
       "      <td>Urban</td>\n",
       "    </tr>\n",
       "  </tbody>\n",
       "</table>\n",
       "</div>"
      ],
      "text/plain": [
       "                 city                 date   fare        ride_id  \\\n",
       "0  Lake Jonathanshire  2019-01-14 10:14:22  13.83  5739410935873   \n",
       "1  South Michelleport  2019-03-04 18:24:09  30.24  2343912425577   \n",
       "2  Port Samanthamouth  2019-02-24 04:29:00  33.44  2005065760003   \n",
       "3          Rodneyfort  2019-02-10 23:22:03  23.44  5149245426178   \n",
       "4          South Jack  2019-03-06 04:28:35  34.58  3908451377344   \n",
       "\n",
       "   driver_count   type  \n",
       "0             5  Urban  \n",
       "1            72  Urban  \n",
       "2            57  Urban  \n",
       "3            34  Urban  \n",
       "4            46  Urban  "
      ]
     },
     "execution_count": 15,
     "metadata": {},
     "output_type": "execute_result"
    }
   ],
   "source": [
    "# Create a DataFrame for each city type.\n",
    "# Create the Urban city DataFrame.\n",
    "urban_cities_df = pyber_data_df[pyber_data_df[\"type\"] ==\"Urban\"]\n",
    "urban_cities_df.head()"
   ]
  },
  {
   "cell_type": "code",
   "execution_count": 16,
   "metadata": {},
   "outputs": [],
   "source": [
    "# Create the Suburban and the Rural city DataFrames.\n",
    "suburban_cities_df = pyber_data_df[pyber_data_df[\"type\"] == \"Suburban\"]\n",
    "rural_cities_df = pyber_data_df[pyber_data_df[\"type\"] == \"Rural\"]"
   ]
  },
  {
   "cell_type": "code",
   "execution_count": 17,
   "metadata": {},
   "outputs": [
    {
     "data": {
      "text/html": [
       "<div>\n",
       "<style scoped>\n",
       "    .dataframe tbody tr th:only-of-type {\n",
       "        vertical-align: middle;\n",
       "    }\n",
       "\n",
       "    .dataframe tbody tr th {\n",
       "        vertical-align: top;\n",
       "    }\n",
       "\n",
       "    .dataframe thead th {\n",
       "        text-align: right;\n",
       "    }\n",
       "</style>\n",
       "<table border=\"1\" class=\"dataframe\">\n",
       "  <thead>\n",
       "    <tr style=\"text-align: right;\">\n",
       "      <th></th>\n",
       "      <th>city</th>\n",
       "      <th>date</th>\n",
       "      <th>fare</th>\n",
       "      <th>ride_id</th>\n",
       "      <th>driver_count</th>\n",
       "      <th>type</th>\n",
       "    </tr>\n",
       "  </thead>\n",
       "  <tbody>\n",
       "    <tr>\n",
       "      <th>2250</th>\n",
       "      <td>Randallchester</td>\n",
       "      <td>2019-04-13 11:13:31</td>\n",
       "      <td>43.22</td>\n",
       "      <td>1076079536213</td>\n",
       "      <td>9</td>\n",
       "      <td>Rural</td>\n",
       "    </tr>\n",
       "    <tr>\n",
       "      <th>2251</th>\n",
       "      <td>North Holly</td>\n",
       "      <td>2019-02-02 14:54:00</td>\n",
       "      <td>12.42</td>\n",
       "      <td>1985256326182</td>\n",
       "      <td>8</td>\n",
       "      <td>Rural</td>\n",
       "    </tr>\n",
       "    <tr>\n",
       "      <th>2252</th>\n",
       "      <td>Michaelberg</td>\n",
       "      <td>2019-03-27 18:27:34</td>\n",
       "      <td>54.85</td>\n",
       "      <td>4421836952718</td>\n",
       "      <td>6</td>\n",
       "      <td>Rural</td>\n",
       "    </tr>\n",
       "    <tr>\n",
       "      <th>2253</th>\n",
       "      <td>Lake Latoyabury</td>\n",
       "      <td>2019-02-23 21:12:24</td>\n",
       "      <td>47.90</td>\n",
       "      <td>3269652929887</td>\n",
       "      <td>2</td>\n",
       "      <td>Rural</td>\n",
       "    </tr>\n",
       "    <tr>\n",
       "      <th>2254</th>\n",
       "      <td>Lake Latoyabury</td>\n",
       "      <td>2019-05-06 08:57:56</td>\n",
       "      <td>51.80</td>\n",
       "      <td>4018025271936</td>\n",
       "      <td>2</td>\n",
       "      <td>Rural</td>\n",
       "    </tr>\n",
       "  </tbody>\n",
       "</table>\n",
       "</div>"
      ],
      "text/plain": [
       "                 city                 date   fare        ride_id  \\\n",
       "2250   Randallchester  2019-04-13 11:13:31  43.22  1076079536213   \n",
       "2251      North Holly  2019-02-02 14:54:00  12.42  1985256326182   \n",
       "2252      Michaelberg  2019-03-27 18:27:34  54.85  4421836952718   \n",
       "2253  Lake Latoyabury  2019-02-23 21:12:24  47.90  3269652929887   \n",
       "2254  Lake Latoyabury  2019-05-06 08:57:56  51.80  4018025271936   \n",
       "\n",
       "      driver_count   type  \n",
       "2250             9  Rural  \n",
       "2251             8  Rural  \n",
       "2252             6  Rural  \n",
       "2253             2  Rural  \n",
       "2254             2  Rural  "
      ]
     },
     "execution_count": 17,
     "metadata": {},
     "output_type": "execute_result"
    }
   ],
   "source": [
    "rural_cities_df.head()"
   ]
  },
  {
   "cell_type": "code",
   "execution_count": 18,
   "metadata": {},
   "outputs": [
    {
     "data": {
      "text/plain": [
       "city\n",
       "Amandaburgh        18\n",
       "Barajasview        22\n",
       "Carriemouth        27\n",
       "Christopherfurt    27\n",
       "Deanville          19\n",
       "Name: ride_id, dtype: int64"
      ]
     },
     "execution_count": 18,
     "metadata": {},
     "output_type": "execute_result"
    }
   ],
   "source": [
    "# Get the number of rides for the urban cities.\n",
    "urban_ride_count = urban_cities_df.groupby([\"city\"]).count()[\"ride_id\"]\n",
    "urban_ride_count.head()"
   ]
  },
  {
   "cell_type": "code",
   "execution_count": 19,
   "metadata": {},
   "outputs": [],
   "source": [
    "# Create the suburban and rural ride count.\n",
    "suburban_ride_count = suburban_cities_df.groupby([\"city\"]).count()[\"ride_id\"]\n",
    "rural_ride_count = rural_cities_df.groupby([\"city\"]).count()[\"ride_id\"]"
   ]
  },
  {
   "cell_type": "code",
   "execution_count": 20,
   "metadata": {},
   "outputs": [
    {
     "data": {
      "text/plain": [
       "city\n",
       "Amandaburgh        24.641667\n",
       "Barajasview        25.332273\n",
       "Carriemouth        28.314444\n",
       "Christopherfurt    24.501852\n",
       "Deanville          25.842632\n",
       "Name: fare, dtype: float64"
      ]
     },
     "execution_count": 20,
     "metadata": {},
     "output_type": "execute_result"
    }
   ],
   "source": [
    "# Get the average fares for each city in the urban cities.\n",
    "urban_avg_fare = urban_cities_df.groupby([\"city\"]).mean()[\"fare\"]\n",
    "urban_avg_fare.head()"
   ]
  },
  {
   "cell_type": "code",
   "execution_count": 21,
   "metadata": {},
   "outputs": [],
   "source": [
    "# Get average fare for each city in the suburban anf rural cities.\n",
    "suburban_avg_fare = suburban_cities_df.groupby([\"city\"]).mean()[\"fare\"]\n",
    "rural_avg_fare = rural_cities_df.groupby([\"city\"]).mean()[\"fare\"]"
   ]
  },
  {
   "cell_type": "code",
   "execution_count": 22,
   "metadata": {},
   "outputs": [
    {
     "data": {
      "text/plain": [
       "city\n",
       "Amandaburgh        12.0\n",
       "Barajasview        26.0\n",
       "Carriemouth        52.0\n",
       "Christopherfurt    41.0\n",
       "Deanville          49.0\n",
       "Name: driver_count, dtype: float64"
      ]
     },
     "execution_count": 22,
     "metadata": {},
     "output_type": "execute_result"
    }
   ],
   "source": [
    "# Get the average number of drivers for each urban city.\n",
    "urban_driver_count = urban_cities_df.groupby([\"city\"]).mean()[\"driver_count\"]\n",
    "urban_driver_count.head()"
   ]
  },
  {
   "cell_type": "code",
   "execution_count": 23,
   "metadata": {},
   "outputs": [],
   "source": [
    "# Get the average number of drivers for each city for the suburban and rural cities.\n",
    "suburban_driver_count = suburban_cities_df.groupby([\"city\"]).mean()[\"driver_count\"]\n",
    "rural_driver_count = rural_cities_df.groupby([\"city\"]).mean()[\"driver_count\"]"
   ]
  },
  {
   "cell_type": "code",
   "execution_count": 24,
   "metadata": {},
   "outputs": [
    {
     "data": {
      "text/plain": [
       "<matplotlib.collections.PathCollection at 0x19b3eae9f88>"
      ]
     },
     "execution_count": 24,
     "metadata": {},
     "output_type": "execute_result"
    },
    {
     "data": {
      "image/png": "[encoded data removed]",
      "text/plain": [
       "<Figure size 432x288 with 1 Axes>"
      ]
     },
     "metadata": {
      "needs_background": "light"
     },
     "output_type": "display_data"
    }
   ],
   "source": [
    "# Build the scatter plots for urban cities.\n",
    "plt.scatter(urban_ride_count, \n",
    "            urban_avg_fare,\n",
    "           s=urban_driver_count)"
   ]
  },
  {
   "cell_type": "code",
   "execution_count": 25,
   "metadata": {},
   "outputs": [
    {
     "data": {
      "text/plain": [
       "<matplotlib.legend.Legend at 0x19b3ee73088>"
      ]
     },
     "execution_count": 25,
     "metadata": {},
     "output_type": "execute_result"
    },
    {
     "data": {
      "image/png": "[encoded data removed]",
      "text/plain": [
       "<Figure size 432x288 with 1 Axes>"
      ]
     },
     "metadata": {
      "needs_background": "light"
     },
     "output_type": "display_data"
    }
   ],
   "source": [
    "# Build the scatter plots for urban cities.\n",
    "plt.scatter(urban_ride_count, urban_avg_fare,\n",
    "           s=10*urban_driver_count, c=\"coral\",\n",
    "           edgecolor=\"black\", linewidths=1,\n",
    "           alpha=0.8,label=\"Urban\")\n",
    "plt.title(\"PyBer Ride-Sharing Data (2019)\")\n",
    "plt.ylabel(\"Average Fare ($)\")\n",
    "plt.xlabel(\"Total Number of Rides (Per City)\")\n",
    "plt.grid(True)\n",
    "# Add the legend.\n",
    "plt.legend()"
   ]
  },
  {
   "cell_type": "code",
   "execution_count": 26,
   "metadata": {},
   "outputs": [
    {
     "data": {
      "text/plain": [
       "<matplotlib.legend.Legend at 0x19b3eee4a08>"
      ]
     },
     "execution_count": 26,
     "metadata": {},
     "output_type": "execute_result"
    },
    {
     "data": {
      "image/png": "[encoded data removed]",
      "text/plain": [
       "<Figure size 432x288 with 1 Axes>"
      ]
     },
     "metadata": {
      "needs_background": "light"
     },
     "output_type": "display_data"
    }
   ],
   "source": [
    "# Build the scatter plots for suburban cities.\n",
    "plt.scatter(suburban_ride_count, suburban_avg_fare,\n",
    "           s=10*suburban_driver_count, c=\"skyblue\",\n",
    "           edgecolor=\"black\", linewidths=1,\n",
    "           alpha=0.8,label=\"Suburban\")\n",
    "plt.title(\"PyBer Ride-Sharing Data (2019)\")\n",
    "plt.ylabel(\"Average Fare ($)\")\n",
    "plt.xlabel(\"Total Number of Rides (Per City)\")\n",
    "plt.grid(True)\n",
    "# Add the legend.\n",
    "plt.legend()"
   ]
  },
  {
   "cell_type": "code",
   "execution_count": 27,
   "metadata": {},
   "outputs": [
    {
     "data": {
      "text/plain": [
       "<matplotlib.legend.Legend at 0x19b3ef3f888>"
      ]
     },
     "execution_count": 27,
     "metadata": {},
     "output_type": "execute_result"
    },
    {
     "data": {
      "image/png": "[encoded data removed]",
      "text/plain": [
       "<Figure size 432x288 with 1 Axes>"
      ]
     },
     "metadata": {
      "needs_background": "light"
     },
     "output_type": "display_data"
    }
   ],
   "source": [
    "# Build the scatter plots for rural cities.\n",
    "plt.scatter(rural_ride_count, rural_avg_fare,\n",
    "           s=10*rural_driver_count, c=\"gold\",\n",
    "           edgecolor=\"black\", linewidths=1,\n",
    "           alpha=0.8,label=\"Rural\")\n",
    "plt.title(\"PyBer Ride-Sharing Data (2019)\")\n",
    "plt.ylabel(\"Average Fare ($)\")\n",
    "plt.xlabel(\"Total Number of Rides (Per City)\")\n",
    "plt.grid(True)\n",
    "# Add the legend.\n",
    "plt.legend()"
   ]
  },
  {
   "cell_type": "code",
   "execution_count": 28,
   "metadata": {},
   "outputs": [
    {
     "data": {
      "image/png": "[encoded data removed]",
      "text/plain": [
       "<Figure size 432x288 with 1 Axes>"
      ]
     },
     "metadata": {
      "needs_background": "light"
     },
     "output_type": "display_data"
    }
   ],
   "source": [
    "# Add the scatter charts for each type of city.\n",
    "plt.scatter(urban_ride_count, urban_avg_fare,\n",
    "           s=10*urban_driver_count, c=\"coral\",\n",
    "           edgecolor=\"black\", linewidths=1,\n",
    "           alpha=0.8,label=\"Urban\")\n",
    "\n",
    "plt.scatter(suburban_ride_count, suburban_avg_fare,\n",
    "           s=10*suburban_driver_count, c=\"skyblue\",\n",
    "           edgecolor=\"black\", linewidths=1,\n",
    "           alpha=0.8,label=\"Suburban\")\n",
    "\n",
    "plt.scatter(rural_ride_count, rural_avg_fare,\n",
    "           s=10*rural_driver_count, c=\"gold\",\n",
    "           edgecolor=\"black\", linewidths=1,\n",
    "           alpha=0.8,label=\"Rural\")\n",
    "\n",
    "# Show the plot\n",
    "plt.show()"
   ]
  },
  {
   "cell_type": "code",
   "execution_count": 29,
   "metadata": {},
   "outputs": [
    {
     "data": {
      "image/png": "[encoded data removed]",
      "text/plain": [
       "<Figure size 720x432 with 1 Axes>"
      ]
     },
     "metadata": {
      "needs_background": "light"
     },
     "output_type": "display_data"
    }
   ],
   "source": [
    "# Build the scatter charts for each city type.\n",
    "plt.subplots(figsize=(10,6))\n",
    "plt.scatter(urban_ride_count, urban_avg_fare,\n",
    "           s=10*urban_driver_count, c=\"coral\",\n",
    "           edgecolor=\"black\", linewidths=1,\n",
    "           alpha=0.8,label=\"Urban\")\n",
    "\n",
    "plt.scatter(suburban_ride_count, suburban_avg_fare,\n",
    "           s=10*suburban_driver_count, c=\"skyblue\",\n",
    "           edgecolor=\"black\", linewidths=1,\n",
    "           alpha=0.8,label=\"Suburban\")\n",
    "\n",
    "plt.scatter(rural_ride_count, rural_avg_fare,\n",
    "           s=10*rural_driver_count, c=\"gold\",\n",
    "           edgecolor=\"black\", linewidths=1,\n",
    "           alpha=0.8,label=\"Rural\")\n",
    "\n",
    "# Incoporate other graph properties.\n",
    "plt.title(\"PyBer Ride Sharing Date (2019)\", fontsize=20)\n",
    "plt.ylabel(\"Average Fare ($)\", fontsize=12)\n",
    "plt.xlabel(\"Total Number of Rides (Per City)\", fontsize=12)\n",
    "plt.grid(True)\n",
    "\n",
    "# Create a legend.\n",
    "lgnd = plt.legend(fontsize=\"12\", mode=\"Expanded\",\n",
    "                 scatterpoints=1, loc=\"best\", title=\"City Types\")\n",
    "lgnd.legendHandles[0]._sizes = [75]\n",
    "lgnd.legendHandles[1]._sizes =[75]\n",
    "lgnd.legendHandles[2]._sizes =[75]\n",
    "lgnd.get_title().set_fontsize(12)\n",
    "\n",
    "# Incorporate a text label about circle size.\n",
    "plt.text(42, 35, \"Note: Circle size correlates with the driver count per city\", fontsize=\"12\")\n",
    "\n",
    "# Save the figure.\n",
    "plt.savefig(\"analysis/Fig1.png\")\n",
    "\n",
    "# Show the plot.\n",
    "plt.show()"
   ]
  },
  {
   "cell_type": "code",
   "execution_count": 30,
   "metadata": {},
   "outputs": [
    {
     "data": {
      "text/html": [
       "<div>\n",
       "<style scoped>\n",
       "    .dataframe tbody tr th:only-of-type {\n",
       "        vertical-align: middle;\n",
       "    }\n",
       "\n",
       "    .dataframe tbody tr th {\n",
       "        vertical-align: top;\n",
       "    }\n",
       "\n",
       "    .dataframe thead th {\n",
       "        text-align: right;\n",
       "    }\n",
       "</style>\n",
       "<table border=\"1\" class=\"dataframe\">\n",
       "  <thead>\n",
       "    <tr style=\"text-align: right;\">\n",
       "      <th></th>\n",
       "      <th>fare</th>\n",
       "      <th>ride_id</th>\n",
       "      <th>driver_count</th>\n",
       "    </tr>\n",
       "  </thead>\n",
       "  <tbody>\n",
       "    <tr>\n",
       "      <th>count</th>\n",
       "      <td>1625.000000</td>\n",
       "      <td>1.625000e+03</td>\n",
       "      <td>1625.000000</td>\n",
       "    </tr>\n",
       "    <tr>\n",
       "      <th>mean</th>\n",
       "      <td>24.525772</td>\n",
       "      <td>4.873485e+12</td>\n",
       "      <td>36.678154</td>\n",
       "    </tr>\n",
       "    <tr>\n",
       "      <th>std</th>\n",
       "      <td>11.738649</td>\n",
       "      <td>2.907440e+12</td>\n",
       "      <td>20.075545</td>\n",
       "    </tr>\n",
       "    <tr>\n",
       "      <th>min</th>\n",
       "      <td>4.050000</td>\n",
       "      <td>1.458810e+10</td>\n",
       "      <td>3.000000</td>\n",
       "    </tr>\n",
       "    <tr>\n",
       "      <th>25%</th>\n",
       "      <td>14.550000</td>\n",
       "      <td>2.400244e+12</td>\n",
       "      <td>22.000000</td>\n",
       "    </tr>\n",
       "    <tr>\n",
       "      <th>50%</th>\n",
       "      <td>24.640000</td>\n",
       "      <td>4.711188e+12</td>\n",
       "      <td>37.000000</td>\n",
       "    </tr>\n",
       "    <tr>\n",
       "      <th>75%</th>\n",
       "      <td>34.580000</td>\n",
       "      <td>7.451579e+12</td>\n",
       "      <td>52.000000</td>\n",
       "    </tr>\n",
       "    <tr>\n",
       "      <th>max</th>\n",
       "      <td>44.970000</td>\n",
       "      <td>9.991538e+12</td>\n",
       "      <td>73.000000</td>\n",
       "    </tr>\n",
       "  </tbody>\n",
       "</table>\n",
       "</div>"
      ],
      "text/plain": [
       "              fare       ride_id  driver_count\n",
       "count  1625.000000  1.625000e+03   1625.000000\n",
       "mean     24.525772  4.873485e+12     36.678154\n",
       "std      11.738649  2.907440e+12     20.075545\n",
       "min       4.050000  1.458810e+10      3.000000\n",
       "25%      14.550000  2.400244e+12     22.000000\n",
       "50%      24.640000  4.711188e+12     37.000000\n",
       "75%      34.580000  7.451579e+12     52.000000\n",
       "max      44.970000  9.991538e+12     73.000000"
      ]
     },
     "execution_count": 30,
     "metadata": {},
     "output_type": "execute_result"
    }
   ],
   "source": [
    "# Get summary statistcs for the urban cities.\n",
    "urban_cities_df.describe()"
   ]
  },
  {
   "cell_type": "code",
   "execution_count": 31,
   "metadata": {},
   "outputs": [
    {
     "data": {
      "text/html": [
       "<div>\n",
       "<style scoped>\n",
       "    .dataframe tbody tr th:only-of-type {\n",
       "        vertical-align: middle;\n",
       "    }\n",
       "\n",
       "    .dataframe tbody tr th {\n",
       "        vertical-align: top;\n",
       "    }\n",
       "\n",
       "    .dataframe thead th {\n",
       "        text-align: right;\n",
       "    }\n",
       "</style>\n",
       "<table border=\"1\" class=\"dataframe\">\n",
       "  <thead>\n",
       "    <tr style=\"text-align: right;\">\n",
       "      <th></th>\n",
       "      <th>fare</th>\n",
       "      <th>ride_id</th>\n",
       "      <th>driver_count</th>\n",
       "    </tr>\n",
       "  </thead>\n",
       "  <tbody>\n",
       "    <tr>\n",
       "      <th>count</th>\n",
       "      <td>625.000000</td>\n",
       "      <td>6.250000e+02</td>\n",
       "      <td>625.000000</td>\n",
       "    </tr>\n",
       "    <tr>\n",
       "      <th>mean</th>\n",
       "      <td>30.970128</td>\n",
       "      <td>4.971015e+12</td>\n",
       "      <td>13.712000</td>\n",
       "    </tr>\n",
       "    <tr>\n",
       "      <th>std</th>\n",
       "      <td>10.677508</td>\n",
       "      <td>2.912410e+12</td>\n",
       "      <td>8.042372</td>\n",
       "    </tr>\n",
       "    <tr>\n",
       "      <th>min</th>\n",
       "      <td>12.050000</td>\n",
       "      <td>3.218337e+08</td>\n",
       "      <td>1.000000</td>\n",
       "    </tr>\n",
       "    <tr>\n",
       "      <th>25%</th>\n",
       "      <td>21.970000</td>\n",
       "      <td>2.364253e+12</td>\n",
       "      <td>5.000000</td>\n",
       "    </tr>\n",
       "    <tr>\n",
       "      <th>50%</th>\n",
       "      <td>30.750000</td>\n",
       "      <td>5.053221e+12</td>\n",
       "      <td>16.000000</td>\n",
       "    </tr>\n",
       "    <tr>\n",
       "      <th>75%</th>\n",
       "      <td>39.830000</td>\n",
       "      <td>7.551674e+12</td>\n",
       "      <td>21.000000</td>\n",
       "    </tr>\n",
       "    <tr>\n",
       "      <th>max</th>\n",
       "      <td>49.960000</td>\n",
       "      <td>9.917744e+12</td>\n",
       "      <td>25.000000</td>\n",
       "    </tr>\n",
       "  </tbody>\n",
       "</table>\n",
       "</div>"
      ],
      "text/plain": [
       "             fare       ride_id  driver_count\n",
       "count  625.000000  6.250000e+02    625.000000\n",
       "mean    30.970128  4.971015e+12     13.712000\n",
       "std     10.677508  2.912410e+12      8.042372\n",
       "min     12.050000  3.218337e+08      1.000000\n",
       "25%     21.970000  2.364253e+12      5.000000\n",
       "50%     30.750000  5.053221e+12     16.000000\n",
       "75%     39.830000  7.551674e+12     21.000000\n",
       "max     49.960000  9.917744e+12     25.000000"
      ]
     },
     "execution_count": 31,
     "metadata": {},
     "output_type": "execute_result"
    }
   ],
   "source": [
    "# Get the summary statistics for the suburban.\n",
    "suburban_cities_df.describe()"
   ]
  },
  {
   "cell_type": "code",
   "execution_count": 32,
   "metadata": {},
   "outputs": [
    {
     "data": {
      "text/html": [
       "<div>\n",
       "<style scoped>\n",
       "    .dataframe tbody tr th:only-of-type {\n",
       "        vertical-align: middle;\n",
       "    }\n",
       "\n",
       "    .dataframe tbody tr th {\n",
       "        vertical-align: top;\n",
       "    }\n",
       "\n",
       "    .dataframe thead th {\n",
       "        text-align: right;\n",
       "    }\n",
       "</style>\n",
       "<table border=\"1\" class=\"dataframe\">\n",
       "  <thead>\n",
       "    <tr style=\"text-align: right;\">\n",
       "      <th></th>\n",
       "      <th>fare</th>\n",
       "      <th>ride_id</th>\n",
       "      <th>driver_count</th>\n",
       "    </tr>\n",
       "  </thead>\n",
       "  <tbody>\n",
       "    <tr>\n",
       "      <th>count</th>\n",
       "      <td>125.000000</td>\n",
       "      <td>1.250000e+02</td>\n",
       "      <td>125.000000</td>\n",
       "    </tr>\n",
       "    <tr>\n",
       "      <th>mean</th>\n",
       "      <td>34.623440</td>\n",
       "      <td>4.647746e+12</td>\n",
       "      <td>4.296000</td>\n",
       "    </tr>\n",
       "    <tr>\n",
       "      <th>std</th>\n",
       "      <td>14.558046</td>\n",
       "      <td>2.887834e+12</td>\n",
       "      <td>2.691156</td>\n",
       "    </tr>\n",
       "    <tr>\n",
       "      <th>min</th>\n",
       "      <td>10.110000</td>\n",
       "      <td>2.684873e+10</td>\n",
       "      <td>1.000000</td>\n",
       "    </tr>\n",
       "    <tr>\n",
       "      <th>25%</th>\n",
       "      <td>19.900000</td>\n",
       "      <td>2.275364e+12</td>\n",
       "      <td>1.000000</td>\n",
       "    </tr>\n",
       "    <tr>\n",
       "      <th>50%</th>\n",
       "      <td>37.050000</td>\n",
       "      <td>4.023962e+12</td>\n",
       "      <td>4.000000</td>\n",
       "    </tr>\n",
       "    <tr>\n",
       "      <th>75%</th>\n",
       "      <td>47.070000</td>\n",
       "      <td>7.118047e+12</td>\n",
       "      <td>7.000000</td>\n",
       "    </tr>\n",
       "    <tr>\n",
       "      <th>max</th>\n",
       "      <td>58.550000</td>\n",
       "      <td>9.990581e+12</td>\n",
       "      <td>9.000000</td>\n",
       "    </tr>\n",
       "  </tbody>\n",
       "</table>\n",
       "</div>"
      ],
      "text/plain": [
       "             fare       ride_id  driver_count\n",
       "count  125.000000  1.250000e+02    125.000000\n",
       "mean    34.623440  4.647746e+12      4.296000\n",
       "std     14.558046  2.887834e+12      2.691156\n",
       "min     10.110000  2.684873e+10      1.000000\n",
       "25%     19.900000  2.275364e+12      1.000000\n",
       "50%     37.050000  4.023962e+12      4.000000\n",
       "75%     47.070000  7.118047e+12      7.000000\n",
       "max     58.550000  9.990581e+12      9.000000"
      ]
     },
     "execution_count": 32,
     "metadata": {},
     "output_type": "execute_result"
    }
   ],
   "source": [
    "# Get the summary statistics for the rural.\n",
    "rural_cities_df.describe()"
   ]
  },
  {
   "cell_type": "code",
   "execution_count": 33,
   "metadata": {},
   "outputs": [
    {
     "data": {
      "text/plain": [
       "count    66.000000\n",
       "mean     24.621212\n",
       "std       5.408726\n",
       "min      12.000000\n",
       "25%      21.000000\n",
       "50%      24.000000\n",
       "75%      28.000000\n",
       "max      39.000000\n",
       "Name: ride_id, dtype: float64"
      ]
     },
     "execution_count": 33,
     "metadata": {},
     "output_type": "execute_result"
    }
   ],
   "source": [
    "# Get summary statistics.\n",
    "urban_ride_count.describe()"
   ]
  },
  {
   "cell_type": "code",
   "execution_count": 34,
   "metadata": {},
   "outputs": [
    {
     "data": {
      "text/plain": [
       "count    36.000000\n",
       "mean     17.361111\n",
       "std       4.323707\n",
       "min       9.000000\n",
       "25%      14.000000\n",
       "50%      17.000000\n",
       "75%      19.250000\n",
       "max      27.000000\n",
       "Name: ride_id, dtype: float64"
      ]
     },
     "execution_count": 34,
     "metadata": {},
     "output_type": "execute_result"
    }
   ],
   "source": [
    "# Get summary statistics.\n",
    "suburban_ride_count.describe()"
   ]
  },
  {
   "cell_type": "code",
   "execution_count": 35,
   "metadata": {},
   "outputs": [
    {
     "data": {
      "text/plain": [
       "count    18.000000\n",
       "mean      6.944444\n",
       "std       2.508157\n",
       "min       3.000000\n",
       "25%       5.250000\n",
       "50%       6.000000\n",
       "75%       8.750000\n",
       "max      12.000000\n",
       "Name: ride_id, dtype: float64"
      ]
     },
     "execution_count": 35,
     "metadata": {},
     "output_type": "execute_result"
    }
   ],
   "source": [
    "# Get summary statistics.\n",
    "rural_ride_count.describe()"
   ]
  },
  {
   "cell_type": "code",
   "execution_count": 36,
   "metadata": {},
   "outputs": [
    {
     "data": {
      "text/plain": [
       "(24.62, 17.36, 6.94)"
      ]
     },
     "execution_count": 36,
     "metadata": {},
     "output_type": "execute_result"
    }
   ],
   "source": [
    "# Calculate the mean of the ride count for every city type.\n",
    "round(urban_ride_count.mean(),2), round(suburban_ride_count.mean(),2),round(rural_ride_count.mean(),2)"
   ]
  },
  {
   "cell_type": "code",
   "execution_count": 37,
   "metadata": {},
   "outputs": [
    {
     "data": {
      "text/plain": [
       "(24.0, 17.0, 6.0)"
      ]
     },
     "execution_count": 37,
     "metadata": {},
     "output_type": "execute_result"
    }
   ],
   "source": [
    "# Calculate the median of the ride count for every city type.\n",
    "round(urban_ride_count.median(),2), round(suburban_ride_count.median(),2),round(rural_ride_count.median(),2)"
   ]
  },
  {
   "cell_type": "code",
   "execution_count": 38,
   "metadata": {},
   "outputs": [
    {
     "data": {
      "text/plain": [
       "(0    22\n",
       " 1    25\n",
       " dtype: int64,\n",
       " 0    17\n",
       " dtype: int64,\n",
       " 0    6\n",
       " dtype: int64)"
      ]
     },
     "execution_count": 38,
     "metadata": {},
     "output_type": "execute_result"
    }
   ],
   "source": [
    "# Calculate the mode of the ride count for every city type.\n",
    "round(urban_ride_count.mode(),2), round(suburban_ride_count.mode(),2),round(rural_ride_count.mode(),2)"
   ]
  },
  {
   "cell_type": "code",
   "execution_count": 39,
   "metadata": {},
   "outputs": [],
   "source": [
    "# Import NumPy and the stats module from SciPy.\n",
    "import numpy as np\n",
    "import scipy.stats as sts"
   ]
  },
  {
   "cell_type": "code",
   "execution_count": 40,
   "metadata": {},
   "outputs": [
    {
     "name": "stdout",
     "output_type": "stream",
     "text": [
      "The mean for the ride counts for urban trips is 24.62.\n",
      "The median for the ride counts for urban trips is 24.00.\n",
      "The mode for the ride counts for urban trips is ModeResult(mode=array([22], dtype=int64), count=array([7])).\n"
     ]
    }
   ],
   "source": [
    "# Calaculat the measures of central tendency for the ride count for the urban cities.\n",
    "mean_urban_ride_count = np.mean(urban_ride_count)\n",
    "print(f\"The mean for the ride counts for urban trips is {mean_urban_ride_count:.2f}.\")\n",
    "\n",
    "median_urban_ride_count = np.median(urban_ride_count)\n",
    "print(f\"The median for the ride counts for urban trips is {median_urban_ride_count:.2f}.\")\n",
    "\n",
    "mode_urban_ride_count = sts.mode(urban_ride_count)\n",
    "print(f\"The mode for the ride counts for urban trips is {mode_urban_ride_count}.\")"
   ]
  },
  {
   "cell_type": "code",
   "execution_count": 41,
   "metadata": {},
   "outputs": [
    {
     "name": "stdout",
     "output_type": "stream",
     "text": [
      "The mean for the ride counts for suburban trips is 17.36.\n",
      "The median for the ride counts for suburban trips is 17.00.\n",
      "The mode for the ride counts for suburban trips is ModeResult(mode=array([17], dtype=int64), count=array([7])).\n"
     ]
    }
   ],
   "source": [
    "# Calaculat the measures of central tendency for the ride count for the suburban cities.\n",
    "mean_suburban_ride_count = np.mean(suburban_ride_count)\n",
    "print(f\"The mean for the ride counts for suburban trips is {mean_suburban_ride_count:.2f}.\")\n",
    "\n",
    "median_suburban_ride_count = np.median(suburban_ride_count)\n",
    "print(f\"The median for the ride counts for suburban trips is {median_suburban_ride_count:.2f}.\")\n",
    "\n",
    "mode_suburban_ride_count = sts.mode(suburban_ride_count)\n",
    "print(f\"The mode for the ride counts for suburban trips is {mode_suburban_ride_count}.\")"
   ]
  },
  {
   "cell_type": "code",
   "execution_count": 42,
   "metadata": {},
   "outputs": [
    {
     "name": "stdout",
     "output_type": "stream",
     "text": [
      "The mean for the ride counts for rural trips is 6.94.\n",
      "The median for the ride counts for rural trips is 6.00.\n",
      "The mode for the ride counts for rural trips is ModeResult(mode=array([6], dtype=int64), count=array([5])).\n"
     ]
    }
   ],
   "source": [
    "# Calaculat the measures of central tendency for the ride count for the rural cities.\n",
    "mean_rural_ride_count = np.mean(rural_ride_count)\n",
    "print(f\"The mean for the ride counts for rural trips is {mean_rural_ride_count:.2f}.\")\n",
    "\n",
    "median_rural_ride_count = np.median(rural_ride_count)\n",
    "print(f\"The median for the ride counts for rural trips is {median_rural_ride_count:.2f}.\")\n",
    "\n",
    "mode_rural_ride_count = sts.mode(rural_ride_count)\n",
    "print(f\"The mode for the ride counts for rural trips is {mode_rural_ride_count}.\")"
   ]
  },
  {
   "cell_type": "code",
   "execution_count": 43,
   "metadata": {},
   "outputs": [
    {
     "data": {
      "text/plain": [
       "0    13.83\n",
       "1    30.24\n",
       "2    33.44\n",
       "3    23.44\n",
       "4    34.58\n",
       "Name: fare, dtype: float64"
      ]
     },
     "execution_count": 43,
     "metadata": {},
     "output_type": "execute_result"
    }
   ],
   "source": [
    "# Get the fares for the urban cities.\n",
    "urban_fares = urban_cities_df[\"fare\"]\n",
    "urban_fares.head()"
   ]
  },
  {
   "cell_type": "code",
   "execution_count": 44,
   "metadata": {},
   "outputs": [
    {
     "name": "stdout",
     "output_type": "stream",
     "text": [
      "The mean fare price for urban trips is $24.53.\n",
      "The median fare price for urban trips is $24.64.\n",
      "The mode fare price for urban trips is $ModeResult(mode=array([22.86]), count=array([5])).\n"
     ]
    }
   ],
   "source": [
    "# Calculate the measures of central tendency for the average fare for the urban cities.\n",
    "mean_urban_fares = np.mean(urban_fares)\n",
    "print(f\"The mean fare price for urban trips is ${mean_urban_fares:.2f}.\")\n",
    "\n",
    "median_urban_fares = np.median(urban_fares)\n",
    "print(f\"The median fare price for urban trips is ${median_urban_fares:.2f}.\")\n",
    "\n",
    "mode_urban_fares = sts.mode(urban_fares)\n",
    "print(f\"The mode fare price for urban trips is ${mode_urban_fares}.\")"
   ]
  },
  {
   "cell_type": "code",
   "execution_count": 45,
   "metadata": {},
   "outputs": [
    {
     "data": {
      "text/plain": [
       "1625    27.79\n",
       "1626    18.75\n",
       "1627    21.71\n",
       "1628    17.10\n",
       "1629    37.78\n",
       "Name: fare, dtype: float64"
      ]
     },
     "execution_count": 45,
     "metadata": {},
     "output_type": "execute_result"
    }
   ],
   "source": [
    "# Get the fares for the suburban cities.\n",
    "suburban_fares = suburban_cities_df[\"fare\"]\n",
    "suburban_fares.head()"
   ]
  },
  {
   "cell_type": "code",
   "execution_count": 46,
   "metadata": {},
   "outputs": [
    {
     "name": "stdout",
     "output_type": "stream",
     "text": [
      "The mean fare price for suburban trips is $30.97.\n",
      "The median fare price for suburban trips is $30.75.\n",
      "The mode fare price for suburban trips is $ModeResult(mode=array([17.99]), count=array([3])).\n"
     ]
    }
   ],
   "source": [
    "# Calculate the measures of central tendency for the average fare for the suburban cities.\n",
    "mean_suburban_fares = np.mean(suburban_fares)\n",
    "print(f\"The mean fare price for suburban trips is ${mean_suburban_fares:.2f}.\")\n",
    "\n",
    "median_suburban_fares = np.median(suburban_fares)\n",
    "print(f\"The median fare price for suburban trips is ${median_suburban_fares:.2f}.\")\n",
    "\n",
    "mode_suburban_fares = sts.mode(suburban_fares)\n",
    "print(f\"The mode fare price for suburban trips is ${mode_suburban_fares}.\")"
   ]
  },
  {
   "cell_type": "code",
   "execution_count": 47,
   "metadata": {},
   "outputs": [],
   "source": [
    "# #Calculate the summary statistics without making a separate series of fares for suburban cities\n",
    "# mean_suburban_fares = np.mean(suburban_avg_fare)\n",
    "# print(f\"The mean fare price for suburban trips is ${mean_suburban_fares:.2f}.\")\n",
    "\n",
    "# median_suburban_fares = np.median(suburban_avg_fare)\n",
    "# print(f\"The median fare price for suburban trips is ${median_suburban_fares:.2f}.\")\n",
    "\n",
    "# mode_suburban_fares = sts.mode(suburban_avg_fare)\n",
    "# print(f\"The mode fare price for suburban trips is ${mode_suburban_fares}.\")"
   ]
  },
  {
   "cell_type": "code",
   "execution_count": 48,
   "metadata": {},
   "outputs": [],
   "source": [
    "# #Calculate the summary statistics without making a separate series of fares for rural cities\n",
    "# mean_rural_fares = np.mean(rural_avg_fare)\n",
    "# print(f\"The mean fare price for rural trips is ${mean_rural_fares:.2f}.\")\n",
    "\n",
    "# median_rural_fares = np.median(rural_avg_fare)\n",
    "# print(f\"The median fare price for rural trips is ${median_rural_fares:.2f}.\")\n",
    "\n",
    "# mode_rural_fares = sts.mode(rural_avg_fare)\n",
    "# print(f\"The mode fare price for rural trips is ${mode_rural_fares}.\")"
   ]
  },
  {
   "cell_type": "code",
   "execution_count": 49,
   "metadata": {},
   "outputs": [
    {
     "data": {
      "text/plain": [
       "2250    43.22\n",
       "2251    12.42\n",
       "2252    54.85\n",
       "2253    47.90\n",
       "2254    51.80\n",
       "Name: fare, dtype: float64"
      ]
     },
     "execution_count": 49,
     "metadata": {},
     "output_type": "execute_result"
    }
   ],
   "source": [
    "# Get the fares for the rural cities.\n",
    "rural_fares = rural_cities_df[\"fare\"]\n",
    "rural_fares.head()"
   ]
  },
  {
   "cell_type": "code",
   "execution_count": 50,
   "metadata": {},
   "outputs": [
    {
     "name": "stdout",
     "output_type": "stream",
     "text": [
      "The mean fare price for rural trips is $34.62.\n",
      "The median fare price for rural trips is $37.05.\n",
      "The mode fare price for rural trips is $ModeResult(mode=array([37.05]), count=array([2])).\n"
     ]
    }
   ],
   "source": [
    "# Calculate the measures of central tendency for the average fare for the rural cities.\n",
    "mean_rural_fares = np.mean(rural_fares)\n",
    "print(f\"The mean fare price for rural trips is ${mean_rural_fares:.2f}.\")\n",
    "\n",
    "median_rural_fares = np.median(rural_fares)\n",
    "print(f\"The median fare price for rural trips is ${median_rural_fares:.2f}.\")\n",
    "\n",
    "mode_rural_fares = sts.mode(rural_fares)\n",
    "print(f\"The mode fare price for rural trips is ${mode_rural_fares}.\")"
   ]
  },
  {
   "cell_type": "code",
   "execution_count": 51,
   "metadata": {},
   "outputs": [
    {
     "data": {
      "text/plain": [
       "0     5\n",
       "1    72\n",
       "2    57\n",
       "3    34\n",
       "4    46\n",
       "Name: driver_count, dtype: int64"
      ]
     },
     "execution_count": 51,
     "metadata": {},
     "output_type": "execute_result"
    }
   ],
   "source": [
    "# Get the driver count from the urban cities.\n",
    "urban_drivers = urban_cities_df[\"driver_count\"]\n",
    "urban_drivers.head()"
   ]
  },
  {
   "cell_type": "code",
   "execution_count": 52,
   "metadata": {},
   "outputs": [
    {
     "name": "stdout",
     "output_type": "stream",
     "text": [
      "The mean driver count from urban trips is 37.\n",
      "The median driver count from urban trips is 37.0.\n",
      "The mode of driver count from urban trips is ModeResult(mode=array([39], dtype=int64), count=array([86])).\n"
     ]
    }
   ],
   "source": [
    "# Calculate the measures of central tendency for the driver count from the urban cities.\n",
    "mean_urban_driver_count = np.mean(urban_drivers)\n",
    "print(f\"The mean driver count from urban trips is {round(mean_urban_driver_count)}.\")\n",
    "\n",
    "median_urban_driver_count = np.median(urban_drivers)\n",
    "print(f\"The median driver count from urban trips is {round(median_urban_driver_count)}.\")\n",
    "\n",
    "mode_urban_driver_count = sts.mode(urban_drivers)\n",
    "print(f\"The mode of driver count from urban trips is {mode_urban_driver_count}.\")"
   ]
  },
  {
   "cell_type": "code",
   "execution_count": 53,
   "metadata": {},
   "outputs": [
    {
     "data": {
      "text/plain": [
       "1625    11\n",
       "1626    20\n",
       "1627    22\n",
       "1628    19\n",
       "1629    12\n",
       "Name: driver_count, dtype: int64"
      ]
     },
     "execution_count": 53,
     "metadata": {},
     "output_type": "execute_result"
    }
   ],
   "source": [
    "# Get the driver count from the urban cities.\n",
    "suburban_drivers = suburban_cities_df[\"driver_count\"]\n",
    "suburban_drivers.head()"
   ]
  },
  {
   "cell_type": "code",
   "execution_count": 54,
   "metadata": {},
   "outputs": [
    {
     "name": "stdout",
     "output_type": "stream",
     "text": [
      "The mean driver count from suburban trips is 14.\n",
      "The median driver count from suburban trips is 16.0.\n",
      "The mode of driver count from suburban trips is ModeResult(mode=array([20], dtype=int64), count=array([79])).\n"
     ]
    }
   ],
   "source": [
    "# Calculate the measures of central tendency for the driver count from the suburban cities.\n",
    "mean_suburban_driver_count = np.mean(suburban_drivers)\n",
    "print(f\"The mean driver count from suburban trips is {round(mean_suburban_driver_count)}.\")\n",
    "\n",
    "median_suburban_driver_count = np.median(suburban_drivers)\n",
    "print(f\"The median driver count from suburban trips is {round(median_suburban_driver_count)}.\")\n",
    "\n",
    "mode_suburban_driver_count = sts.mode(suburban_drivers)\n",
    "print(f\"The mode of driver count from suburban trips is {mode_suburban_driver_count}.\")"
   ]
  },
  {
   "cell_type": "code",
   "execution_count": 55,
   "metadata": {},
   "outputs": [
    {
     "data": {
      "text/plain": [
       "2250    9\n",
       "2251    8\n",
       "2252    6\n",
       "2253    2\n",
       "2254    2\n",
       "Name: driver_count, dtype: int64"
      ]
     },
     "execution_count": 55,
     "metadata": {},
     "output_type": "execute_result"
    }
   ],
   "source": [
    "# Get the driver count from the rural cities.\n",
    "rural_drivers = rural_cities_df[\"driver_count\"]\n",
    "rural_drivers.head()"
   ]
  },
  {
   "cell_type": "code",
   "execution_count": 56,
   "metadata": {},
   "outputs": [
    {
     "name": "stdout",
     "output_type": "stream",
     "text": [
      "The mean driver count from rural trips is 4.\n",
      "The median driver count from rural trips is 4.0.\n",
      "The mode of driver count from rural trips is ModeResult(mode=array([1], dtype=int64), count=array([32])).\n"
     ]
    }
   ],
   "source": [
    "# Calculate the measures of central tendency for the driver count from the rural cities.\n",
    "mean_rural_driver_count = np.mean(rural_drivers)\n",
    "print(f\"The mean driver count from rural trips is {round(mean_rural_driver_count)}.\")\n",
    "\n",
    "median_rural_driver_count = np.median(rural_drivers)\n",
    "print(f\"The median driver count from rural trips is {round(median_rural_driver_count)}.\")\n",
    "\n",
    "mode_rural_driver_count = sts.mode(rural_drivers)\n",
    "print(f\"The mode of driver count from rural trips is {mode_rural_driver_count}.\")"
   ]
  },
  {
   "cell_type": "code",
   "execution_count": 57,
   "metadata": {},
   "outputs": [
    {
     "data": {
      "image/png": "[encoded data removed]",
      "text/plain": [
       "<Figure size 432x288 with 1 Axes>"
      ]
     },
     "metadata": {
      "needs_background": "light"
     },
     "output_type": "display_data"
    }
   ],
   "source": [
    "# Create a box and whisker plot for the urban cities ride count.\n",
    "x_labels = [\"Urban\"]\n",
    "fig, ax = plt.subplots()\n",
    "ax.boxplot(urban_ride_count, labels=x_labels)\n",
    "\n",
    "# Add the title, y-axis label, and grid.\n",
    "ax.set_title('Ride Count Data (2019)')\n",
    "ax.set_ylabel('Number of Rides')\n",
    "ax.set_yticks(np.arange(10, 41, step=2.0))\n",
    "ax.grid()\n",
    "plt.show()"
   ]
  },
  {
   "cell_type": "code",
   "execution_count": 58,
   "metadata": {},
   "outputs": [
    {
     "data": {
      "image/png": "[encoded data removed]",
      "text/plain": [
       "<Figure size 432x288 with 1 Axes>"
      ]
     },
     "metadata": {
      "needs_background": "light"
     },
     "output_type": "display_data"
    }
   ],
   "source": [
    "# Create a box and whisker plot for the suburban cities ride count.\n",
    "x_labels =[\"Suburban\"]\n",
    "fig, ax = plt.subplots()\n",
    "ax.boxplot(suburban_ride_count, labels=x_labels)\n",
    "\n",
    "# Add the title, y-axis label, and grid.\n",
    "ax.set_title(\"Ride Count Data(2019)\")\n",
    "ax.set_ylabel(\"Number of Rides\")\n",
    "ax.set_yticks(np.arange(8, 28, step=2.0))\n",
    "ax.grid()\n",
    "plt.show()"
   ]
  },
  {
   "cell_type": "code",
   "execution_count": 59,
   "metadata": {},
   "outputs": [
    {
     "data": {
      "image/png": "[encoded data removed]",
      "text/plain": [
       "<Figure size 432x288 with 1 Axes>"
      ]
     },
     "metadata": {
      "needs_background": "light"
     },
     "output_type": "display_data"
    }
   ],
   "source": [
    "# Create a box and whisker plot for the urban cities ride count.\n",
    "x_labels = [\"Rural\"]\n",
    "fig, ax = plt.subplots()\n",
    "ax.boxplot(rural_ride_count, labels=x_labels)\n",
    "\n",
    "# Add the title, y-axis label, and grid.\n",
    "ax.set_title('Ride Count Data (2019)')\n",
    "ax.set_ylabel('Number of Rides')\n",
    "ax.set_yticks(np.arange(2, 14, step=1.0))\n",
    "ax.grid()\n",
    "plt.show()"
   ]
  },
  {
   "cell_type": "code",
   "execution_count": 60,
   "metadata": {},
   "outputs": [
    {
     "data": {
      "image/png": "[encoded data removed]",
      "text/plain": [
       "<Figure size 720x432 with 1 Axes>"
      ]
     },
     "metadata": {
      "needs_background": "light"
     },
     "output_type": "display_data"
    }
   ],
   "source": [
    "# Add all ride count box-and-whisker plots to the same graph.\n",
    "x_labels = [\"Urban\", \"Suburban\", \"Rural\"]\n",
    "ride_count_data = [urban_ride_count, suburban_ride_count, rural_ride_count]\n",
    "fig, ax = plt.subplots(figsize=(10, 6))\n",
    "ax.set_title('Ride Count Data (2019)', fontsize=20)\n",
    "ax.set_ylabel('Number of Rides', fontsize=14)\n",
    "ax.set_xlabel(\"City Types\", fontsize=14)\n",
    "ax.boxplot(ride_count_data, labels=x_labels)\n",
    "ax.set_yticks(np.arange(0, 45, step=3.0))\n",
    "ax.grid()\n",
    "\n",
    "# Save the figure.\n",
    "plt.savefig(\"analysis/Fig2.png\")\n",
    "plt.show()             "
   ]
  },
  {
   "cell_type": "code",
   "execution_count": 61,
   "metadata": {},
   "outputs": [
    {
     "data": {
      "text/plain": [
       "city\n",
       "Amandaburgh            18\n",
       "Barajasview            22\n",
       "Carriemouth            27\n",
       "Christopherfurt        27\n",
       "Deanville              19\n",
       "                       ..\n",
       "West Patrickchester    16\n",
       "West Robert            31\n",
       "West Samuelburgh       25\n",
       "Williamsstad           23\n",
       "Williamsview           20\n",
       "Name: ride_id, Length: 66, dtype: int64"
      ]
     },
     "execution_count": 61,
     "metadata": {},
     "output_type": "execute_result"
    }
   ],
   "source": [
    "urban_ride_count"
   ]
  },
  {
   "cell_type": "code",
   "execution_count": 62,
   "metadata": {},
   "outputs": [
    {
     "name": "stdout",
     "output_type": "stream",
     "text": [
      "West Angela has the highest rider count.\n"
     ]
    }
   ],
   "source": [
    "# Get the city with the outlier, that matches 39.\n",
    "urban_city_outlier = urban_ride_count[urban_ride_count == 39].index[0]\n",
    "print(f\"{urban_city_outlier} has the highest rider count.\")"
   ]
  },
  {
   "cell_type": "code",
   "execution_count": 63,
   "metadata": {},
   "outputs": [
    {
     "data": {
      "image/png": "[encoded data removed]",
      "text/plain": [
       "<Figure size 432x288 with 1 Axes>"
      ]
     },
     "metadata": {
      "needs_background": "light"
     },
     "output_type": "display_data"
    },
    {
     "name": "stdout",
     "output_type": "stream",
     "text": [
      "Summary Statistics\n"
     ]
    },
    {
     "data": {
      "text/plain": [
       "count    1625.000000\n",
       "mean       24.525772\n",
       "std        11.738649\n",
       "min         4.050000\n",
       "25%        14.550000\n",
       "50%        24.640000\n",
       "75%        34.580000\n",
       "max        44.970000\n",
       "Name: fare, dtype: float64"
      ]
     },
     "execution_count": 63,
     "metadata": {},
     "output_type": "execute_result"
    }
   ],
   "source": [
    "# Create a box-and-whisker plot for the urban fare data.\n",
    "x_labels =[\"Urban\"]\n",
    "fig, ax = plt.subplots()\n",
    "ax.boxplot(urban_fares, labels=x_labels)\n",
    "\n",
    "# Add the title, y-axis label, and grid.\n",
    "ax.set_title(\"Ride Fare Data (2019)\")\n",
    "ax.set_ylabel(\"Fare($USD)\")\n",
    "ax.set_yticks(np.arange(0, 51, step=5.0))\n",
    "ax.grid()\n",
    "plt.show()\n",
    "print(\"Summary Statistics\")\n",
    "urban_fares.describe()"
   ]
  },
  {
   "cell_type": "code",
   "execution_count": 64,
   "metadata": {},
   "outputs": [
    {
     "data": {
      "image/png": "[encoded data removed]",
      "text/plain": [
       "<Figure size 432x288 with 1 Axes>"
      ]
     },
     "metadata": {
      "needs_background": "light"
     },
     "output_type": "display_data"
    },
    {
     "name": "stdout",
     "output_type": "stream",
     "text": [
      "Summary Statistics\n"
     ]
    },
    {
     "data": {
      "text/plain": [
       "count    625.000000\n",
       "mean      30.970128\n",
       "std       10.677508\n",
       "min       12.050000\n",
       "25%       21.970000\n",
       "50%       30.750000\n",
       "75%       39.830000\n",
       "max       49.960000\n",
       "Name: fare, dtype: float64"
      ]
     },
     "execution_count": 64,
     "metadata": {},
     "output_type": "execute_result"
    }
   ],
   "source": [
    "# Create a box-and-whisker plot for the suburban fare data.\n",
    "x_labels =[\"Subrban\"]\n",
    "fig, ax = plt.subplots()\n",
    "ax.boxplot(suburban_fares, labels=x_labels)\n",
    "\n",
    "# Add the title, y-axis label, and grid.\n",
    "ax.set_title(\"Ride Fare Data (2019)\")\n",
    "ax.set_ylabel(\"Fare($USD)\")\n",
    "ax.set_yticks(np.arange(10, 51, step=5.0))\n",
    "ax.grid()\n",
    "plt.show()\n",
    "print(\"Summary Statistics\")\n",
    "suburban_fares.describe()"
   ]
  },
  {
   "cell_type": "code",
   "execution_count": 65,
   "metadata": {},
   "outputs": [
    {
     "data": {
      "image/png": "[encoded data removed]",
      "text/plain": [
       "<Figure size 432x288 with 1 Axes>"
      ]
     },
     "metadata": {
      "needs_background": "light"
     },
     "output_type": "display_data"
    },
    {
     "name": "stdout",
     "output_type": "stream",
     "text": [
      "Summary Statistics\n"
     ]
    },
    {
     "data": {
      "text/plain": [
       "count    125.000000\n",
       "mean      34.623440\n",
       "std       14.558046\n",
       "min       10.110000\n",
       "25%       19.900000\n",
       "50%       37.050000\n",
       "75%       47.070000\n",
       "max       58.550000\n",
       "Name: fare, dtype: float64"
      ]
     },
     "execution_count": 65,
     "metadata": {},
     "output_type": "execute_result"
    }
   ],
   "source": [
    "# Create a box-and-whisker plot for the rural fare data.\n",
    "x_labels =[\"Rural\"]\n",
    "fig, ax = plt.subplots()\n",
    "ax.boxplot(rural_fares, labels=x_labels)\n",
    "\n",
    "# Add the title, y-axis label, and grid.\n",
    "ax.set_title(\"Ride Fare Data (2019)\")\n",
    "ax.set_ylabel(\"Fare($USD)\")\n",
    "ax.set_yticks(np.arange(5, 65, step=5.0))\n",
    "ax.grid()\n",
    "plt.show()\n",
    "print(\"Summary Statistics\")\n",
    "rural_fares.describe()"
   ]
  },
  {
   "cell_type": "code",
   "execution_count": 66,
   "metadata": {},
   "outputs": [
    {
     "data": {
      "image/png": "[encoded data removed]",
      "text/plain": [
       "<Figure size 720x432 with 1 Axes>"
      ]
     },
     "metadata": {
      "needs_background": "light"
     },
     "output_type": "display_data"
    }
   ],
   "source": [
    "# Add the fares for all city types in a box and whisker plot.\n",
    "x_labels = [\"Urban\", \"Suburban\", \"Rural\"]\n",
    "fares_data = [urban_fares, suburban_fares, rural_fares]\n",
    "fig, ax = plt.subplots(figsize=(10, 6))\n",
    "ax.boxplot(fares_data, labels=x_labels)\n",
    "\n",
    "# Add the title, y_axis label, x-axis label, and grid.\n",
    "ax.set_title(\"Ride Fare Data (2019)\", fontsize=20)\n",
    "ax.set_ylabel(\"Fare($USD)\", fontsize=14)\n",
    "ax.set_xlabel(\"City Types\", fontsize=14)\n",
    "ax.set_yticks(np.arange(0, 65, step=5.0))\n",
    "ax.grid()\n",
    "\n",
    "# Save the figure.\n",
    "plt.savefig(\"analysis/Fig3.png\")\n",
    "plt.show()"
   ]
  },
  {
   "cell_type": "code",
   "execution_count": 67,
   "metadata": {},
   "outputs": [
    {
     "data": {
      "image/png": "[encoded data removed]",
      "text/plain": [
       "<Figure size 432x288 with 1 Axes>"
      ]
     },
     "metadata": {
      "needs_background": "light"
     },
     "output_type": "display_data"
    },
    {
     "name": "stdout",
     "output_type": "stream",
     "text": [
      "Summary Statistics\n"
     ]
    },
    {
     "data": {
      "text/plain": [
       "count    1625.000000\n",
       "mean       36.678154\n",
       "std        20.075545\n",
       "min         3.000000\n",
       "25%        22.000000\n",
       "50%        37.000000\n",
       "75%        52.000000\n",
       "max        73.000000\n",
       "Name: driver_count, dtype: float64"
      ]
     },
     "execution_count": 67,
     "metadata": {},
     "output_type": "execute_result"
    }
   ],
   "source": [
    "# Create the box-and-whisker plot for the urban driver count data.\n",
    "x_labels =[\"Urban\"]\n",
    "fig, ax = plt.subplots()\n",
    "ax.boxplot(urban_drivers, labels=x_labels)\n",
    "\n",
    "# Add the title, y-axis label, and grid.\n",
    "ax.set_title(\"Driver Count Data (2019)\")\n",
    "ax.set_ylabel(\"Number of Drivers\")\n",
    "ax.set_yticks(np.arange(0, 90, step=5.0))\n",
    "ax.grid()\n",
    "plt.show()\n",
    "\n",
    "print(\"Summary Statistics\")\n",
    "urban_drivers.describe()"
   ]
  },
  {
   "cell_type": "code",
   "execution_count": 68,
   "metadata": {},
   "outputs": [
    {
     "data": {
      "image/png": "[encoded data removed]",
      "text/plain": [
       "<Figure size 432x288 with 1 Axes>"
      ]
     },
     "metadata": {
      "needs_background": "light"
     },
     "output_type": "display_data"
    },
    {
     "name": "stdout",
     "output_type": "stream",
     "text": [
      "Summary Statistics\n"
     ]
    },
    {
     "data": {
      "text/plain": [
       "count    625.000000\n",
       "mean      13.712000\n",
       "std        8.042372\n",
       "min        1.000000\n",
       "25%        5.000000\n",
       "50%       16.000000\n",
       "75%       21.000000\n",
       "max       25.000000\n",
       "Name: driver_count, dtype: float64"
      ]
     },
     "execution_count": 68,
     "metadata": {},
     "output_type": "execute_result"
    }
   ],
   "source": [
    "# Create the box-and-whisker plot for the suburban driver count data.\n",
    "x_labels =[\"Subrban\"]\n",
    "fig, ax = plt.subplots()\n",
    "ax.boxplot(suburban_drivers, labels=x_labels)\n",
    "\n",
    "# Add the title, y-axis label, and grid.\n",
    "ax.set_title(\"Driver Count Data (2019)\")\n",
    "ax.set_ylabel(\"Number of Drivers\")\n",
    "ax.set_yticks(np.arange(0, 25, step=2.0))\n",
    "ax.grid()\n",
    "plt.show()\n",
    "\n",
    "print(\"Summary Statistics\")\n",
    "suburban_drivers.describe()"
   ]
  },
  {
   "cell_type": "code",
   "execution_count": 69,
   "metadata": {},
   "outputs": [
    {
     "data": {
      "image/png": "[encoded data removed]",
      "text/plain": [
       "<Figure size 432x288 with 1 Axes>"
      ]
     },
     "metadata": {
      "needs_background": "light"
     },
     "output_type": "display_data"
    },
    {
     "name": "stdout",
     "output_type": "stream",
     "text": [
      "Summary Statistics\n"
     ]
    },
    {
     "data": {
      "text/plain": [
       "count    125.000000\n",
       "mean       4.296000\n",
       "std        2.691156\n",
       "min        1.000000\n",
       "25%        1.000000\n",
       "50%        4.000000\n",
       "75%        7.000000\n",
       "max        9.000000\n",
       "Name: driver_count, dtype: float64"
      ]
     },
     "execution_count": 69,
     "metadata": {},
     "output_type": "execute_result"
    }
   ],
   "source": [
    "# Create the box-and-whisker plot for the rural driver count data.\n",
    "x_labels =[\"Rural\"]\n",
    "fig, ax = plt.subplots()\n",
    "ax.boxplot(rural_drivers, labels=x_labels)\n",
    "\n",
    "# Add the title, y-axis label, and grid.\n",
    "ax.set_title(\"Driver Count Data (2019)\")\n",
    "ax.set_ylabel(\"Number of Drivers\")\n",
    "ax.set_yticks(np.arange(0, 10, step=1.0))\n",
    "ax.grid()\n",
    "plt.show()\n",
    "\n",
    "print(\"Summary Statistics\")\n",
    "rural_drivers.describe()"
   ]
  },
  {
   "cell_type": "code",
   "execution_count": 70,
   "metadata": {},
   "outputs": [
    {
     "data": {
      "image/png": "[encoded data removed]",
      "text/plain": [
       "<Figure size 720x432 with 1 Axes>"
      ]
     },
     "metadata": {
      "needs_background": "light"
     },
     "output_type": "display_data"
    }
   ],
   "source": [
    "# Add the number of drivers for all city types in a box and whisker plot.\n",
    "x_labels = [\"Urban\", \"Suburban\", \"Rural\"]\n",
    "driver_count_data = [urban_drivers, suburban_drivers, rural_drivers]\n",
    "fig, ax = plt.subplots(figsize=(10, 6))\n",
    "ax.boxplot(driver_count_data, labels=x_labels)\n",
    "\n",
    "# Add the title, y_axis label, x-axis label, and grid.\n",
    "ax.set_title(\"Driver Count Data (2019)\", fontsize=20)\n",
    "ax.set_ylabel(\"Number of Drivers\", fontsize=14)\n",
    "ax.set_xlabel(\"City Types\", fontsize=14)\n",
    "ax.set_yticks(np.arange(0, 80, step=5.0))\n",
    "ax.grid()\n",
    "\n",
    "# Save the figure.\n",
    "#plt.savefig(\"analysis/Fig4.png\")\n",
    "plt.show()"
   ]
  },
  {
   "cell_type": "code",
   "execution_count": 71,
   "metadata": {},
   "outputs": [
    {
     "data": {
      "text/plain": [
       "type\n",
       "Rural        4327.93\n",
       "Suburban    19356.33\n",
       "Urban       39854.38\n",
       "Name: fare, dtype: float64"
      ]
     },
     "execution_count": 71,
     "metadata": {},
     "output_type": "execute_result"
    }
   ],
   "source": [
    "# Get the sum of the fares for each city types.\n",
    "sum_fares_by_type = pyber_data_df.groupby([\"type\"]).sum()[\"fare\"]\n",
    "sum_fares_by_type"
   ]
  },
  {
   "cell_type": "code",
   "execution_count": 72,
   "metadata": {},
   "outputs": [
    {
     "data": {
      "text/plain": [
       "63538.64"
      ]
     },
     "execution_count": 72,
     "metadata": {},
     "output_type": "execute_result"
    }
   ],
   "source": [
    "# Get the sum of all fares.\n",
    "total_fares = pyber_data_df[\"fare\"].sum()\n",
    "total_fares"
   ]
  },
  {
   "cell_type": "code",
   "execution_count": 73,
   "metadata": {},
   "outputs": [
    {
     "data": {
      "text/plain": [
       "type\n",
       "Rural        6.811493\n",
       "Suburban    30.463872\n",
       "Urban       62.724635\n",
       "Name: fare, dtype: float64"
      ]
     },
     "execution_count": 73,
     "metadata": {},
     "output_type": "execute_result"
    }
   ],
   "source": [
    "# Calculate the percentage of fare for each city type.\n",
    "type_percents = 100 * pyber_data_df.groupby([\"type\"]).sum()[\"fare\"] / pyber_data_df[\"fare\"].sum()\n",
    "\n",
    "# OR,,,\n",
    "#type_percents =  sum_fares_by_type / total_fares * 100\n",
    "\n",
    "type_percents"
   ]
  },
  {
   "cell_type": "code",
   "execution_count": 93,
   "metadata": {},
   "outputs": [
    {
     "data": {
      "image/png": "[encoded data removed]",
      "text/plain": [
       "<Figure size 720x432 with 1 Axes>"
      ]
     },
     "metadata": {},
     "output_type": "display_data"
    }
   ],
   "source": [
    "# Import mpl to change the plot configurations using rcParams.\n",
    "import matplotlib as mpl\n",
    "\n",
    "# Build the percentage of fares by city type pie chart.\n",
    "plt.subplots(figsize=(10,6))\n",
    "colors = [\"gold\", \"lightskyblue\", \"lightcoral\"]\n",
    "labels = [\"Rural\", \"Suburban\", \"Urban\"]\n",
    "explode = [0, 0, 0.1]\n",
    "plt.pie(type_percents, labels=labels, colors=colors, startangle=150, shadow=True, explode=explode, autopct=\"%1.1f%%\")\n",
    "\n",
    "# Add the title.\n",
    "plt.title(\"% of Total Fares by City Types\")\n",
    "# Change the default font size from 10 to 14.\n",
    "mpl.rcParams['font.size'] = 14\n",
    "\n",
    "# Save figure.\n",
    "plt.savefig(\"analysis/Fig5.png\")\n",
    "# Show figure.\n",
    "plt.show()"
   ]
  },
  {
   "cell_type": "code",
   "execution_count": 77,
   "metadata": {},
   "outputs": [
    {
     "data": {
      "text/html": [
       "<div>\n",
       "<style scoped>\n",
       "    .dataframe tbody tr th:only-of-type {\n",
       "        vertical-align: middle;\n",
       "    }\n",
       "\n",
       "    .dataframe tbody tr th {\n",
       "        vertical-align: top;\n",
       "    }\n",
       "\n",
       "    .dataframe thead th {\n",
       "        text-align: right;\n",
       "    }\n",
       "</style>\n",
       "<table border=\"1\" class=\"dataframe\">\n",
       "  <thead>\n",
       "    <tr style=\"text-align: right;\">\n",
       "      <th></th>\n",
       "      <th>city</th>\n",
       "      <th>date</th>\n",
       "      <th>fare</th>\n",
       "      <th>ride_id</th>\n",
       "      <th>driver_count</th>\n",
       "      <th>type</th>\n",
       "    </tr>\n",
       "  </thead>\n",
       "  <tbody>\n",
       "    <tr>\n",
       "      <th>0</th>\n",
       "      <td>Lake Jonathanshire</td>\n",
       "      <td>2019-01-14 10:14:22</td>\n",
       "      <td>13.83</td>\n",
       "      <td>5739410935873</td>\n",
       "      <td>5</td>\n",
       "      <td>Urban</td>\n",
       "    </tr>\n",
       "    <tr>\n",
       "      <th>1</th>\n",
       "      <td>South Michelleport</td>\n",
       "      <td>2019-03-04 18:24:09</td>\n",
       "      <td>30.24</td>\n",
       "      <td>2343912425577</td>\n",
       "      <td>72</td>\n",
       "      <td>Urban</td>\n",
       "    </tr>\n",
       "    <tr>\n",
       "      <th>2</th>\n",
       "      <td>Port Samanthamouth</td>\n",
       "      <td>2019-02-24 04:29:00</td>\n",
       "      <td>33.44</td>\n",
       "      <td>2005065760003</td>\n",
       "      <td>57</td>\n",
       "      <td>Urban</td>\n",
       "    </tr>\n",
       "    <tr>\n",
       "      <th>3</th>\n",
       "      <td>Rodneyfort</td>\n",
       "      <td>2019-02-10 23:22:03</td>\n",
       "      <td>23.44</td>\n",
       "      <td>5149245426178</td>\n",
       "      <td>34</td>\n",
       "      <td>Urban</td>\n",
       "    </tr>\n",
       "    <tr>\n",
       "      <th>4</th>\n",
       "      <td>South Jack</td>\n",
       "      <td>2019-03-06 04:28:35</td>\n",
       "      <td>34.58</td>\n",
       "      <td>3908451377344</td>\n",
       "      <td>46</td>\n",
       "      <td>Urban</td>\n",
       "    </tr>\n",
       "  </tbody>\n",
       "</table>\n",
       "</div>"
      ],
      "text/plain": [
       "                 city                 date   fare        ride_id  \\\n",
       "0  Lake Jonathanshire  2019-01-14 10:14:22  13.83  5739410935873   \n",
       "1  South Michelleport  2019-03-04 18:24:09  30.24  2343912425577   \n",
       "2  Port Samanthamouth  2019-02-24 04:29:00  33.44  2005065760003   \n",
       "3          Rodneyfort  2019-02-10 23:22:03  23.44  5149245426178   \n",
       "4          South Jack  2019-03-06 04:28:35  34.58  3908451377344   \n",
       "\n",
       "   driver_count   type  \n",
       "0             5  Urban  \n",
       "1            72  Urban  \n",
       "2            57  Urban  \n",
       "3            34  Urban  \n",
       "4            46  Urban  "
      ]
     },
     "execution_count": 77,
     "metadata": {},
     "output_type": "execute_result"
    }
   ],
   "source": [
    "pyber_data_df.head()"
   ]
  },
  {
   "cell_type": "code",
   "execution_count": 78,
   "metadata": {},
   "outputs": [
    {
     "data": {
      "text/plain": [
       "type\n",
       "Rural        125\n",
       "Suburban     625\n",
       "Urban       1625\n",
       "Name: ride_id, dtype: int64"
      ]
     },
     "execution_count": 78,
     "metadata": {},
     "output_type": "execute_result"
    }
   ],
   "source": [
    "# Get the total number of rides for each city types.\n",
    "total_rides_by_type = pyber_data_df.groupby([\"type\"]).count()[\"ride_id\"]\n",
    "total_rides_by_type"
   ]
  },
  {
   "cell_type": "code",
   "execution_count": 80,
   "metadata": {},
   "outputs": [
    {
     "data": {
      "text/plain": [
       "2375"
      ]
     },
     "execution_count": 80,
     "metadata": {},
     "output_type": "execute_result"
    }
   ],
   "source": [
    "total_rides = pyber_data_df[\"ride_id\"].count()\n",
    "total_rides"
   ]
  },
  {
   "cell_type": "code",
   "execution_count": 95,
   "metadata": {},
   "outputs": [
    {
     "data": {
      "text/plain": [
       "type\n",
       "Rural        5.263158\n",
       "Suburban    26.315789\n",
       "Urban       68.421053\n",
       "Name: ride_id, dtype: float64"
      ]
     },
     "execution_count": 95,
     "metadata": {},
     "output_type": "execute_result"
    }
   ],
   "source": [
    "ride_percents = total_rides_by_type/total_rides * 100\n",
    "ride_percents"
   ]
  },
  {
   "cell_type": "code",
   "execution_count": 96,
   "metadata": {},
   "outputs": [
    {
     "data": {
      "image/png": "[encoded data removed]",
      "text/plain": [
       "<Figure size 720x432 with 1 Axes>"
      ]
     },
     "metadata": {},
     "output_type": "display_data"
    }
   ],
   "source": [
    "# Build a pie chart of the percentage of rides by city types.\n",
    "plt.subplots(figsize=(10,6))\n",
    "labels = [\"Rural\", \"Suburban\", \"Urban\"]\n",
    "colors = [\"gold\", \"lightskyblue\", \"lightcoral\"]\n",
    "explode = [0, 0, 0.1]\n",
    "plt.pie(ride_percents, labels=labels, colors=colors, explode=explode, \n",
    "        startangle=150, shadow=True, autopct=\"%1.1f%%\")\n",
    "\n",
    "# Add title\n",
    "plt.title(\"% of Total Rides by City Types\")\n",
    "# Change the default font size from 10 to 14.\n",
    "mpl.rcParams['font.size'] = 14\n",
    "\n",
    "# Save figure.\n",
    "plt.savefig(\"analysis/Fig6.png\")\n",
    "# Show figure.\n",
    "plt.show()"
   ]
  },
  {
   "cell_type": "code",
   "execution_count": null,
   "metadata": {},
   "outputs": [],
   "source": []
  }
 ],
 "metadata": {
  "kernelspec": {
   "display_name": "PythonData",
   "language": "python",
   "name": "pythondata"
  },
  "language_info": {
   "codemirror_mode": {
    "name": "ipython",
    "version": 3
   },
   "file_extension": ".py",
   "mimetype": "text/x-python",
   "name": "python",
   "nbconvert_exporter": "python",
   "pygments_lexer": "ipython3",
   "version": "3.7.9"
  }
 },
 "nbformat": 4,
 "nbformat_minor": 4
}
